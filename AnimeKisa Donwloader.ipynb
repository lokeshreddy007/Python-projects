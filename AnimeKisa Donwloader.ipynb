{
  "nbformat": 4,
  "nbformat_minor": 0,
  "metadata": {
    "colab": {
      "name": "AnimeKisa Donwloader.ipynb",
      "provenance": [],
      "collapsed_sections": []
    },
    "kernelspec": {
      "name": "python3",
      "display_name": "Python 3"
    }
  },
  "cells": [
    {
      "cell_type": "code",
      "metadata": {
        "id": "LXBftYKge3Zj"
      },
      "source": [
        "from google.colab import drive\n",
        "drive.mount('/content/drive')"
      ],
      "execution_count": null,
      "outputs": []
    },
    {
      "cell_type": "code",
      "metadata": {
        "id": "9EbVqH40iLua"
      },
      "source": [
        "import os\n",
        "os.chdir(\"/content/drive/MyDrive/Youtube\")"
      ],
      "execution_count": null,
      "outputs": []
    },
    {
      "cell_type": "code",
      "metadata": {
        "id": "SytaKlN9h-pV",
        "outputId": "089ebde1-7d3a-4c04-a4e4-f1992018a9ad",
        "colab": {
          "base_uri": "https://localhost:8080/"
        }
      },
      "source": [
        "# Download All Episode Links\n",
        "import requests\n",
        "url = \"https://animekisa.tv/the-seven-deadly-sins-dubbed\"\n",
        "from bs4 import BeautifulSoup\n",
        "res = requests.get(url)\n",
        "\n",
        "links = []\n",
        "# https://animekisa.tv/shingeki-no-kyojin-the-final-season-dubbed-episode-3\n",
        "base_url = \"https://animekisa.tv/\"\n",
        "soup = BeautifulSoup(res.text,'html.parser')\n",
        "    # for bookname in soup.findAll('a', attrs={'class':'title'}):\n",
        "    #     books.append(bookname.text)\n",
        "    \n",
        "for link in soup.findAll('a', attrs={'class':'infovan'}):\n",
        "  links.append(base_url+link.get('href','/n''/n'))\n",
        "  print(link.get('href','/n''/n'))"
      ],
      "execution_count": 63,
      "outputs": [
        {
          "output_type": "stream",
          "text": [
            "the-seven-deadly-sins-dubbed-episode-24\n",
            "the-seven-deadly-sins-dubbed-episode-23\n",
            "the-seven-deadly-sins-dubbed-episode-22\n",
            "the-seven-deadly-sins-dubbed-episode-21\n",
            "the-seven-deadly-sins-dubbed-episode-20\n",
            "the-seven-deadly-sins-dubbed-episode-19\n",
            "the-seven-deadly-sins-dubbed-episode-18\n",
            "the-seven-deadly-sins-dubbed-episode-17\n",
            "the-seven-deadly-sins-dubbed-episode-16\n",
            "the-seven-deadly-sins-dubbed-episode-15\n",
            "the-seven-deadly-sins-dubbed-episode-14\n",
            "the-seven-deadly-sins-dubbed-episode-13\n",
            "the-seven-deadly-sins-dubbed-episode-12\n",
            "the-seven-deadly-sins-dubbed-episode-11\n",
            "the-seven-deadly-sins-dubbed-episode-10\n",
            "the-seven-deadly-sins-dubbed-episode-9\n",
            "the-seven-deadly-sins-dubbed-episode-8\n",
            "the-seven-deadly-sins-dubbed-episode-7\n",
            "the-seven-deadly-sins-dubbed-episode-6\n",
            "the-seven-deadly-sins-dubbed-episode-5\n",
            "the-seven-deadly-sins-dubbed-episode-4\n",
            "the-seven-deadly-sins-dubbed-episode-3\n",
            "the-seven-deadly-sins-dubbed-episode-2\n",
            "the-seven-deadly-sins-dubbed-episode-1\n"
          ],
          "name": "stdout"
        }
      ]
    },
    {
      "cell_type": "code",
      "metadata": {
        "colab": {
          "base_uri": "https://localhost:8080/"
        },
        "id": "NnLbhpVBhCJd",
        "outputId": "17569583-2a0a-40eb-a873-f0f24ccf0c22"
      },
      "source": [
        "links"
      ],
      "execution_count": 64,
      "outputs": [
        {
          "output_type": "execute_result",
          "data": {
            "text/plain": [
              "['https://animekisa.tv/the-seven-deadly-sins-dubbed-episode-24',\n",
              " 'https://animekisa.tv/the-seven-deadly-sins-dubbed-episode-23',\n",
              " 'https://animekisa.tv/the-seven-deadly-sins-dubbed-episode-22',\n",
              " 'https://animekisa.tv/the-seven-deadly-sins-dubbed-episode-21',\n",
              " 'https://animekisa.tv/the-seven-deadly-sins-dubbed-episode-20',\n",
              " 'https://animekisa.tv/the-seven-deadly-sins-dubbed-episode-19',\n",
              " 'https://animekisa.tv/the-seven-deadly-sins-dubbed-episode-18',\n",
              " 'https://animekisa.tv/the-seven-deadly-sins-dubbed-episode-17',\n",
              " 'https://animekisa.tv/the-seven-deadly-sins-dubbed-episode-16',\n",
              " 'https://animekisa.tv/the-seven-deadly-sins-dubbed-episode-15',\n",
              " 'https://animekisa.tv/the-seven-deadly-sins-dubbed-episode-14',\n",
              " 'https://animekisa.tv/the-seven-deadly-sins-dubbed-episode-13',\n",
              " 'https://animekisa.tv/the-seven-deadly-sins-dubbed-episode-12',\n",
              " 'https://animekisa.tv/the-seven-deadly-sins-dubbed-episode-11',\n",
              " 'https://animekisa.tv/the-seven-deadly-sins-dubbed-episode-10',\n",
              " 'https://animekisa.tv/the-seven-deadly-sins-dubbed-episode-9',\n",
              " 'https://animekisa.tv/the-seven-deadly-sins-dubbed-episode-8',\n",
              " 'https://animekisa.tv/the-seven-deadly-sins-dubbed-episode-7',\n",
              " 'https://animekisa.tv/the-seven-deadly-sins-dubbed-episode-6',\n",
              " 'https://animekisa.tv/the-seven-deadly-sins-dubbed-episode-5',\n",
              " 'https://animekisa.tv/the-seven-deadly-sins-dubbed-episode-4',\n",
              " 'https://animekisa.tv/the-seven-deadly-sins-dubbed-episode-3',\n",
              " 'https://animekisa.tv/the-seven-deadly-sins-dubbed-episode-2',\n",
              " 'https://animekisa.tv/the-seven-deadly-sins-dubbed-episode-1']"
            ]
          },
          "metadata": {
            "tags": []
          },
          "execution_count": 64
        }
      ]
    },
    {
      "cell_type": "code",
      "metadata": {
        "id": "wS3kM-tOiBhK"
      },
      "source": [
        "!ls"
      ],
      "execution_count": null,
      "outputs": []
    },
    {
      "cell_type": "code",
      "metadata": {
        "id": "38byxqB7ZrXo"
      },
      "source": [
        "!apt install chromium-chromedriver\n",
        "!cp /usr/lib/chromium-browser/chromedriver /usr/bin\n",
        "!pip install selenium"
      ],
      "execution_count": null,
      "outputs": []
    },
    {
      "cell_type": "code",
      "metadata": {
        "id": "UoB3UDYwNmE1"
      },
      "source": [
        ""
      ],
      "execution_count": 59,
      "outputs": []
    },
    {
      "cell_type": "code",
      "metadata": {
        "id": "jpL022QqiAbA",
        "outputId": "38650e36-d384-41c1-8b04-0cc6fe6a379e",
        "colab": {
          "base_uri": "https://localhost:8080/"
        }
      },
      "source": [
        "for i in links:\n",
        "  print(i)"
      ],
      "execution_count": 60,
      "outputs": [
        {
          "output_type": "stream",
          "text": [
            "https://animekisa.tv/the-seven-deadly-sins-dubbed-episode-1\n",
            "https://animekisa.tv/the-seven-deadly-sins-dubbed-episode-2\n"
          ],
          "name": "stdout"
        }
      ]
    },
    {
      "cell_type": "code",
      "metadata": {
        "id": "BO8CZZXfh9O7"
      },
      "source": [
        ""
      ],
      "execution_count": 60,
      "outputs": []
    },
    {
      "cell_type": "code",
      "metadata": {
        "colab": {
          "base_uri": "https://localhost:8080/"
        },
        "id": "hDfjz24aZrdR",
        "outputId": "52c4f43e-2f20-4c40-d9c9-c7f8983bfdc2"
      },
      "source": [
        "for i in links:\n",
        "  from selenium import webdriver\n",
        "  from bs4 import BeautifulSoup \n",
        "  options = webdriver.ChromeOptions()\n",
        "  options.add_argument('-headless')\n",
        "  options.add_argument('-no-sandbox')\n",
        "  options.add_argument('-disable-dev-shm-usage')\n",
        "  driver = webdriver.Chrome('chromedriver',options=options)\n",
        "  driver.get(i)\n",
        "  driver.implicitly_wait(60)\n",
        "  driver.implicitly_wait(120)\n",
        "  driver.implicitly_wait(120)\n",
        "  val = driver.page_source.split('var VidStreaming = \"')\n",
        "  link = val[1]\n",
        "  url = link.split('=\"')\n",
        "  down = url[0]+'='\n",
        "  print(down.replace(\"https://vidstreaming.io/load.php\", \"https://gogo-stream.com/download\"))\n",
        "  openlink = down.replace(\"https://vidstreaming.io/load.php\", \"https://gogo-stream.com/download\")\n",
        "  driver.get(openlink)\n",
        "  driver.implicitly_wait(60)\n",
        "  driver.implicitly_wait(120)\n",
        "  driver.implicitly_wait(120)\n",
        "  # download_soup = BeautifulSoup(download,'html.parser')\n",
        "  soup = BeautifulSoup(driver.page_source, \"lxml\")\n",
        "  spans = soup.find_all('div',attrs={'class':'dowload'})\n",
        "  fine = []\n",
        "  for span in spans:\n",
        "      downloads = span.find_all('a')\n",
        "      for download in downloads:\n",
        "          fine.append(download['href'])\n",
        "  file_name = i.split('/')[-1]\n",
        "  print(file_name)\n",
        "  print(fine[0])\n",
        "  print( \"Downloading file:%s\"%file_name) \n",
        "      \n",
        "  # # create response object \n",
        "  r = requests.get(fine[0], stream = True) \n",
        "      \n",
        "  # # download started \n",
        "  with open(file_name, 'wb') as f: \n",
        "    for chunk in r.iter_content(chunk_size = 1024*1024): \n",
        "      if chunk: \n",
        "        f.write(chunk) \n",
        "  print( \"%s downloaded!\\n\"%file_name ) \n",
        "\n",
        "print (\"All videos downloaded!\") "
      ],
      "execution_count": 65,
      "outputs": [
        {
          "output_type": "stream",
          "text": [
            "https://gogo-stream.com/download?id=OTE3MzM=&title=The+Seven+Deadly+Sins+%28Dub%29&typesub=SUB&sub=&cover=Y292ZXIvdGhlLXNldmVuLWRlYWRseS1zaW5zLWR1Yi5wbmc=\n",
            "the-seven-deadly-sins-dubbed-episode-24\n",
            "https://storage.googleapis.com/credible-tesla-302810/F16C44IO2NR/22a_1613464233_91733.mp4\n",
            "Downloading file:the-seven-deadly-sins-dubbed-episode-24\n",
            "the-seven-deadly-sins-dubbed-episode-24 downloaded!\n",
            "\n",
            "https://gogo-stream.com/download?id=OTE3MzI=&title=The+Seven+Deadly+Sins+%28Dub%29&typesub=SUB&sub=&cover=Y292ZXIvdGhlLXNldmVuLWRlYWRseS1zaW5zLWR1Yi5wbmc=\n",
            "the-seven-deadly-sins-dubbed-episode-23\n",
            "https://storage.googleapis.com/stoked-outlook-302608/78NW2N4O13D7/23a_1613359611_91732.mp4\n",
            "Downloading file:the-seven-deadly-sins-dubbed-episode-23\n",
            "the-seven-deadly-sins-dubbed-episode-23 downloaded!\n",
            "\n",
            "https://gogo-stream.com/download?id=OTE3MzE=&title=The+Seven+Deadly+Sins+%28Dub%29&typesub=SUB&sub=&cover=Y292ZXIvdGhlLXNldmVuLWRlYWRseS1zaW5zLWR1Yi5wbmc=\n",
            "the-seven-deadly-sins-dubbed-episode-22\n",
            "https://storage.googleapis.com/galvanic-tea-302612/5DQ8_HWK93EC/23a_1613197983_91731.mp4\n",
            "Downloading file:the-seven-deadly-sins-dubbed-episode-22\n",
            "the-seven-deadly-sins-dubbed-episode-22 downloaded!\n",
            "\n",
            "https://gogo-stream.com/download?id=OTE3MzA=&title=The+Seven+Deadly+Sins+%28Dub%29&typesub=SUB&sub=&cover=Y292ZXIvdGhlLXNldmVuLWRlYWRseS1zaW5zLWR1Yi5wbmc=\n",
            "the-seven-deadly-sins-dubbed-episode-21\n",
            "https://storage.googleapis.com/black-media-302507/ZYQJDASHGBJ/22a_1613400099_91730.mp4\n",
            "Downloading file:the-seven-deadly-sins-dubbed-episode-21\n",
            "the-seven-deadly-sins-dubbed-episode-21 downloaded!\n",
            "\n",
            "https://gogo-stream.com/download?id=OTE3Mjk=&title=The+Seven+Deadly+Sins+%28Dub%29&typesub=SUB&sub=&cover=Y292ZXIvdGhlLXNldmVuLWRlYWRseS1zaW5zLWR1Yi5wbmc=\n",
            "the-seven-deadly-sins-dubbed-episode-20\n",
            "https://storage.googleapis.com/galvanic-tea-302612/HTSAS7MT8OTI/23a_1613202072_91729.mp4\n",
            "Downloading file:the-seven-deadly-sins-dubbed-episode-20\n",
            "the-seven-deadly-sins-dubbed-episode-20 downloaded!\n",
            "\n",
            "https://gogo-stream.com/download?id=OTE3Mjg=&title=The+Seven+Deadly+Sins+%28Dub%29&typesub=SUB&sub=&cover=Y292ZXIvdGhlLXNldmVuLWRlYWRseS1zaW5zLWR1Yi5wbmc=\n",
            "the-seven-deadly-sins-dubbed-episode-19\n",
            "https://storage.googleapis.com/stoked-outlook-302608/NIMG6AXTBMJC/23a_1613361747_91728.mp4\n",
            "Downloading file:the-seven-deadly-sins-dubbed-episode-19\n",
            "the-seven-deadly-sins-dubbed-episode-19 downloaded!\n",
            "\n",
            "https://gogo-stream.com/download?id=OTE3Mjc=&title=The+Seven+Deadly+Sins+%28Dub%29&typesub=SUB&sub=&cover=Y292ZXIvdGhlLXNldmVuLWRlYWRseS1zaW5zLWR1Yi5wbmc=\n",
            "the-seven-deadly-sins-dubbed-episode-18\n",
            "https://storage.googleapis.com/stoked-outlook-302608/3DASF53CYKZ8/23a_1613361354_91727.mp4\n",
            "Downloading file:the-seven-deadly-sins-dubbed-episode-18\n",
            "the-seven-deadly-sins-dubbed-episode-18 downloaded!\n",
            "\n",
            "https://gogo-stream.com/download?id=OTE3MjY=&title=The+Seven+Deadly+Sins+%28Dub%29&typesub=SUB&sub=&cover=Y292ZXIvdGhlLXNldmVuLWRlYWRseS1zaW5zLWR1Yi5wbmc=\n",
            "the-seven-deadly-sins-dubbed-episode-17\n",
            "https://storage.googleapis.com/stoked-outlook-302608/J6Q_SDIG26A5/23a_1613361831_91726.mp4\n",
            "Downloading file:the-seven-deadly-sins-dubbed-episode-17\n",
            "the-seven-deadly-sins-dubbed-episode-17 downloaded!\n",
            "\n",
            "https://gogo-stream.com/download?id=OTE3MjU=&title=The+Seven+Deadly+Sins+%28Dub%29&typesub=SUB&sub=&cover=Y292ZXIvdGhlLXNldmVuLWRlYWRseS1zaW5zLWR1Yi5wbmc=\n",
            "the-seven-deadly-sins-dubbed-episode-16\n",
            "https://storage.googleapis.com/black-media-302507/ZK5VX1JEUXTY/22a_1613414736_91725.mp4\n",
            "Downloading file:the-seven-deadly-sins-dubbed-episode-16\n",
            "the-seven-deadly-sins-dubbed-episode-16 downloaded!\n",
            "\n",
            "https://gogo-stream.com/download?id=OTE3MjQ=&title=The+Seven+Deadly+Sins+%28Dub%29&typesub=SUB&sub=&cover=Y292ZXIvdGhlLXNldmVuLWRlYWRseS1zaW5zLWR1Yi5wbmc=\n",
            "the-seven-deadly-sins-dubbed-episode-15\n",
            "https://storage.googleapis.com/galvanic-tea-302612/W844XF8I954Z/23a_1613205967_91724.mp4\n",
            "Downloading file:the-seven-deadly-sins-dubbed-episode-15\n",
            "the-seven-deadly-sins-dubbed-episode-15 downloaded!\n",
            "\n",
            "https://gogo-stream.com/download?id=OTE3MjM=&title=The+Seven+Deadly+Sins+%28Dub%29&typesub=SUB&sub=&cover=Y292ZXIvdGhlLXNldmVuLWRlYWRseS1zaW5zLWR1Yi5wbmc=\n",
            "the-seven-deadly-sins-dubbed-episode-14\n",
            "https://storage.googleapis.com/stoked-outlook-302608/MBGZCWS5CX6Y/23a_1613369622_91723.mp4\n",
            "Downloading file:the-seven-deadly-sins-dubbed-episode-14\n",
            "the-seven-deadly-sins-dubbed-episode-14 downloaded!\n",
            "\n",
            "https://gogo-stream.com/download?id=OTE3MjI=&title=The+Seven+Deadly+Sins+%28Dub%29&typesub=SUB&sub=&cover=Y292ZXIvdGhlLXNldmVuLWRlYWRseS1zaW5zLWR1Yi5wbmc=\n",
            "the-seven-deadly-sins-dubbed-episode-13\n",
            "https://storage.googleapis.com/stoked-outlook-302608/_HF6U7MSVBH_/23a_1613359599_91722.mp4\n",
            "Downloading file:the-seven-deadly-sins-dubbed-episode-13\n",
            "the-seven-deadly-sins-dubbed-episode-13 downloaded!\n",
            "\n",
            "https://gogo-stream.com/download?id=OTE3MjE=&title=The+Seven+Deadly+Sins+%28Dub%29&typesub=SUB&sub=&cover=Y292ZXIvdGhlLXNldmVuLWRlYWRseS1zaW5zLWR1Yi5wbmc=\n",
            "the-seven-deadly-sins-dubbed-episode-12\n",
            "https://storage.googleapis.com/credible-tesla-302810/PEVW58QHQWXP/22a_1613466032_91721.mp4\n",
            "Downloading file:the-seven-deadly-sins-dubbed-episode-12\n",
            "the-seven-deadly-sins-dubbed-episode-12 downloaded!\n",
            "\n",
            "https://gogo-stream.com/download?id=OTE3MjA=&title=The+Seven+Deadly+Sins+%28Dub%29&typesub=SUB&sub=&cover=Y292ZXIvdGhlLXNldmVuLWRlYWRseS1zaW5zLWR1Yi5wbmc=\n",
            "the-seven-deadly-sins-dubbed-episode-11\n",
            "https://storage.googleapis.com/galvanic-tea-302612/C2DKMGQF82N/23a_1613198047_91720.mp4\n",
            "Downloading file:the-seven-deadly-sins-dubbed-episode-11\n",
            "the-seven-deadly-sins-dubbed-episode-11 downloaded!\n",
            "\n",
            "https://gogo-stream.com/download?id=OTE3MTk=&title=The+Seven+Deadly+Sins+%28Dub%29&typesub=SUB&sub=&cover=Y292ZXIvdGhlLXNldmVuLWRlYWRseS1zaW5zLWR1Yi5wbmc=\n",
            "the-seven-deadly-sins-dubbed-episode-10\n",
            "https://storage.googleapis.com/beaming-magnet-302808/HWA9QV1E8B3L/23a_1613402117_91719.mp4\n",
            "Downloading file:the-seven-deadly-sins-dubbed-episode-10\n",
            "the-seven-deadly-sins-dubbed-episode-10 downloaded!\n",
            "\n",
            "https://gogo-stream.com/download?id=OTE3MTg=&title=The+Seven+Deadly+Sins+%28Dub%29&typesub=SUB&sub=&cover=Y292ZXIvdGhlLXNldmVuLWRlYWRseS1zaW5zLWR1Yi5wbmc=\n",
            "the-seven-deadly-sins-dubbed-episode-9\n",
            "https://storage.googleapis.com/meta-will-302608/1T5BUX7YOD/22a_1613460423_91718.mp4\n",
            "Downloading file:the-seven-deadly-sins-dubbed-episode-9\n",
            "the-seven-deadly-sins-dubbed-episode-9 downloaded!\n",
            "\n",
            "https://gogo-stream.com/download?id=OTE3MTc=&title=The+Seven+Deadly+Sins+%28Dub%29&typesub=SUB&sub=&cover=Y292ZXIvdGhlLXNldmVuLWRlYWRseS1zaW5zLWR1Yi5wbmc=\n",
            "the-seven-deadly-sins-dubbed-episode-8\n",
            "https://storage.googleapis.com/galvanic-tea-302612/RMSE6PT92_/23a_1613202049_91717.mp4\n",
            "Downloading file:the-seven-deadly-sins-dubbed-episode-8\n",
            "the-seven-deadly-sins-dubbed-episode-8 downloaded!\n",
            "\n",
            "https://gogo-stream.com/download?id=OTE3MTY=&title=The+Seven+Deadly+Sins+%28Dub%29&typesub=SUB&sub=&cover=Y292ZXIvdGhlLXNldmVuLWRlYWRseS1zaW5zLWR1Yi5wbmc=\n",
            "the-seven-deadly-sins-dubbed-episode-7\n",
            "https://storage.googleapis.com/meta-will-302608/9JSUNO3NEUHP/22a_1613459938_91716.mp4\n",
            "Downloading file:the-seven-deadly-sins-dubbed-episode-7\n",
            "the-seven-deadly-sins-dubbed-episode-7 downloaded!\n",
            "\n",
            "https://gogo-stream.com/download?id=OTE3MTU=&title=The+Seven+Deadly+Sins+%28Dub%29&typesub=SUB&sub=&cover=Y292ZXIvdGhlLXNldmVuLWRlYWRseS1zaW5zLWR1Yi5wbmc=\n",
            "the-seven-deadly-sins-dubbed-episode-6\n",
            "https://storage.googleapis.com/stoked-outlook-302608/BWC8KKF6UHY/23a_1613372819_91715.mp4\n",
            "Downloading file:the-seven-deadly-sins-dubbed-episode-6\n",
            "the-seven-deadly-sins-dubbed-episode-6 downloaded!\n",
            "\n",
            "https://gogo-stream.com/download?id=OTE3MTQ=&title=The+Seven+Deadly+Sins+%28Dub%29&typesub=SUB&sub=&cover=Y292ZXIvdGhlLXNldmVuLWRlYWRseS1zaW5zLWR1Yi5wbmc=\n",
            "the-seven-deadly-sins-dubbed-episode-5\n",
            "https://storage.googleapis.com/galvanic-tea-302612/KZ_NZC3JJYTG/23a_1613205946_91714.mp4\n",
            "Downloading file:the-seven-deadly-sins-dubbed-episode-5\n",
            "the-seven-deadly-sins-dubbed-episode-5 downloaded!\n",
            "\n",
            "https://gogo-stream.com/download?id=OTE3MTM=&title=The+Seven+Deadly+Sins+%28Dub%29&typesub=SUB&sub=&cover=Y292ZXIvdGhlLXNldmVuLWRlYWRseS1zaW5zLWR1Yi5wbmc=\n",
            "the-seven-deadly-sins-dubbed-episode-4\n",
            "https://storage.googleapis.com/stoked-outlook-302608/FDYC_OIN796I/23a_1613369597_91713.mp4\n",
            "Downloading file:the-seven-deadly-sins-dubbed-episode-4\n",
            "the-seven-deadly-sins-dubbed-episode-4 downloaded!\n",
            "\n",
            "https://gogo-stream.com/download?id=OTE3MTI=&title=The+Seven+Deadly+Sins+%28Dub%29&typesub=SUB&sub=&cover=Y292ZXIvdGhlLXNldmVuLWRlYWRseS1zaW5zLWR1Yi5wbmc=\n",
            "the-seven-deadly-sins-dubbed-episode-3\n",
            "https://storage.googleapis.com/meta-will-302608/N9Q1HEVEO8QW/22a_1613456379_91712.mp4\n",
            "Downloading file:the-seven-deadly-sins-dubbed-episode-3\n",
            "the-seven-deadly-sins-dubbed-episode-3 downloaded!\n",
            "\n",
            "https://gogo-stream.com/download?id=OTE3MTE=&title=The+Seven+Deadly+Sins+%28Dub%29&typesub=SUB&sub=&cover=Y292ZXIvdGhlLXNldmVuLWRlYWRseS1zaW5zLWR1Yi5wbmc=\n",
            "the-seven-deadly-sins-dubbed-episode-2\n",
            "https://storage.googleapis.com/stoked-outlook-302608/RUD82IOPTX2Q/23a_1613364314_91711.mp4\n",
            "Downloading file:the-seven-deadly-sins-dubbed-episode-2\n",
            "the-seven-deadly-sins-dubbed-episode-2 downloaded!\n",
            "\n",
            "https://gogo-stream.com/download?id=OTE3MTA=&title=The+Seven+Deadly+Sins+%28Dub%29&typesub=SUB&sub=&cover=Y292ZXIvdGhlLXNldmVuLWRlYWRseS1zaW5zLWR1Yi5wbmc=\n",
            "the-seven-deadly-sins-dubbed-episode-1\n",
            "https://storage.googleapis.com/galvanic-tea-302612/RPS6167W6G84/23a_1613198035_91710.mp4\n",
            "Downloading file:the-seven-deadly-sins-dubbed-episode-1\n",
            "the-seven-deadly-sins-dubbed-episode-1 downloaded!\n",
            "\n",
            "All videos downloaded!\n"
          ],
          "name": "stdout"
        }
      ]
    },
    {
      "cell_type": "code",
      "metadata": {
        "id": "omIUFWT8F4tN"
      },
      "source": [
        ""
      ],
      "execution_count": null,
      "outputs": []
    },
    {
      "cell_type": "code",
      "metadata": {
        "id": "yqx78E9TGGR4"
      },
      "source": [
        ""
      ],
      "execution_count": null,
      "outputs": []
    },
    {
      "cell_type": "code",
      "metadata": {
        "id": "74oCPl5WDWip"
      },
      "source": [
        ""
      ],
      "execution_count": null,
      "outputs": []
    },
    {
      "cell_type": "code",
      "metadata": {
        "id": "ndCS9OepGXaN"
      },
      "source": [
        ""
      ],
      "execution_count": null,
      "outputs": []
    },
    {
      "cell_type": "code",
      "metadata": {
        "id": "beps4WoXGUPs"
      },
      "source": [
        ""
      ],
      "execution_count": null,
      "outputs": []
    },
    {
      "cell_type": "code",
      "metadata": {
        "id": "iC38KzVDGsUd"
      },
      "source": [
        ""
      ],
      "execution_count": null,
      "outputs": []
    },
    {
      "cell_type": "code",
      "metadata": {
        "id": "mkK-ApXsGsbH"
      },
      "source": [
        ""
      ],
      "execution_count": null,
      "outputs": []
    },
    {
      "cell_type": "code",
      "metadata": {
        "id": "ru8vrJeaGsfJ"
      },
      "source": [
        ""
      ],
      "execution_count": null,
      "outputs": []
    },
    {
      "cell_type": "code",
      "metadata": {
        "id": "8EyOzhWZGsjY"
      },
      "source": [
        ""
      ],
      "execution_count": null,
      "outputs": []
    },
    {
      "cell_type": "code",
      "metadata": {
        "id": "q3Fp35mijkNn"
      },
      "source": [
        ""
      ],
      "execution_count": null,
      "outputs": []
    },
    {
      "cell_type": "code",
      "metadata": {
        "id": "iIuxzpvNZrhW"
      },
      "source": [
        ""
      ],
      "execution_count": null,
      "outputs": []
    },
    {
      "cell_type": "code",
      "metadata": {
        "id": "tKWD0XT9e2m9"
      },
      "source": [
        ""
      ],
      "execution_count": null,
      "outputs": []
    },
    {
      "cell_type": "code",
      "metadata": {
        "id": "C0DGw5GhZrlO"
      },
      "source": [
        ""
      ],
      "execution_count": null,
      "outputs": []
    },
    {
      "cell_type": "code",
      "metadata": {
        "id": "Gj_uDxj1Zrpo"
      },
      "source": [
        ""
      ],
      "execution_count": null,
      "outputs": []
    },
    {
      "cell_type": "code",
      "metadata": {
        "id": "6pcFKp_6ZryH"
      },
      "source": [
        ""
      ],
      "execution_count": null,
      "outputs": []
    },
    {
      "cell_type": "code",
      "metadata": {
        "id": "dEDUq0SNibNt"
      },
      "source": [
        ""
      ],
      "execution_count": null,
      "outputs": []
    },
    {
      "cell_type": "code",
      "metadata": {
        "id": "TTvOnwX-Yzzz"
      },
      "source": [
        ""
      ],
      "execution_count": null,
      "outputs": []
    },
    {
      "cell_type": "code",
      "metadata": {
        "id": "jF9aYCnOYz6g"
      },
      "source": [
        ""
      ],
      "execution_count": null,
      "outputs": []
    },
    {
      "cell_type": "code",
      "metadata": {
        "id": "yJ1jGU8aYz-A"
      },
      "source": [
        ""
      ],
      "execution_count": null,
      "outputs": []
    },
    {
      "cell_type": "code",
      "metadata": {
        "id": "9eU4Hos4Y0Cs"
      },
      "source": [
        ""
      ],
      "execution_count": null,
      "outputs": []
    },
    {
      "cell_type": "code",
      "metadata": {
        "id": "sjVarJFFeznO"
      },
      "source": [
        ""
      ],
      "execution_count": null,
      "outputs": []
    },
    {
      "cell_type": "code",
      "metadata": {
        "id": "USxWkz-YtHHt"
      },
      "source": [
        ""
      ],
      "execution_count": null,
      "outputs": []
    },
    {
      "cell_type": "code",
      "metadata": {
        "id": "A8iBJWeAixF5"
      },
      "source": [
        ""
      ],
      "execution_count": null,
      "outputs": []
    },
    {
      "cell_type": "code",
      "metadata": {
        "id": "WHIlxRCFwolB",
        "outputId": "7f9bc5e8-825a-41db-8b98-e1dad9eb9a93",
        "colab": {
          "base_uri": "https://localhost:8080/"
        }
      },
      "source": [
        ""
      ],
      "execution_count": 42,
      "outputs": [
        {
          "output_type": "execute_result",
          "data": {
            "text/plain": [
              "['https://animekisa.tv/shingeki-no-kyojin-the-final-season-dubbed-episode-6',\n",
              " 'https://animekisa.tv/shingeki-no-kyojin-the-final-season-dubbed-episode-5',\n",
              " 'https://animekisa.tv/shingeki-no-kyojin-the-final-season-dubbed-episode-4',\n",
              " 'https://animekisa.tv/shingeki-no-kyojin-the-final-season-dubbed-episode-3',\n",
              " 'https://animekisa.tv/shingeki-no-kyojin-the-final-season-dubbed-episode-2',\n",
              " 'https://animekisa.tv/shingeki-no-kyojin-the-final-season-dubbed-episode-1']"
            ]
          },
          "metadata": {
            "tags": []
          },
          "execution_count": 42
        }
      ]
    },
    {
      "cell_type": "code",
      "metadata": {
        "id": "uOqDouLWzInD"
      },
      "source": [
        ""
      ],
      "execution_count": null,
      "outputs": []
    },
    {
      "cell_type": "code",
      "metadata": {
        "id": "srtFaW7TndH4"
      },
      "source": [
        ""
      ],
      "execution_count": null,
      "outputs": []
    },
    {
      "cell_type": "code",
      "metadata": {
        "id": "NqZRi9_RzjmG"
      },
      "source": [
        ""
      ],
      "execution_count": null,
      "outputs": []
    },
    {
      "cell_type": "code",
      "metadata": {
        "id": "MMVjtrQT_Xct"
      },
      "source": [
        ""
      ],
      "execution_count": null,
      "outputs": []
    },
    {
      "cell_type": "code",
      "metadata": {
        "id": "apTkfUJSywBp"
      },
      "source": [
        ""
      ],
      "execution_count": null,
      "outputs": []
    },
    {
      "cell_type": "code",
      "metadata": {
        "id": "xwUaa7Cr644R"
      },
      "source": [
        ""
      ],
      "execution_count": null,
      "outputs": []
    },
    {
      "cell_type": "code",
      "metadata": {
        "id": "0t-6iuKwBvIs"
      },
      "source": [
        ""
      ],
      "execution_count": null,
      "outputs": []
    },
    {
      "cell_type": "code",
      "metadata": {
        "id": "QZx625WAB1Ml"
      },
      "source": [
        ""
      ],
      "execution_count": null,
      "outputs": []
    },
    {
      "cell_type": "code",
      "metadata": {
        "id": "8RhZpuEaB6_k"
      },
      "source": [
        ""
      ],
      "execution_count": null,
      "outputs": []
    },
    {
      "cell_type": "code",
      "metadata": {
        "id": "2Yy37wbGCWZZ"
      },
      "source": [
        "player"
      ],
      "execution_count": null,
      "outputs": []
    },
    {
      "cell_type": "code",
      "metadata": {
        "id": "vfixtWHlC8yY"
      },
      "source": [
        ""
      ],
      "execution_count": null,
      "outputs": []
    },
    {
      "cell_type": "code",
      "metadata": {
        "id": "KU2PtSX-DrFf"
      },
      "source": [
        ""
      ],
      "execution_count": null,
      "outputs": []
    },
    {
      "cell_type": "code",
      "metadata": {
        "id": "ijSZG8lKFHSr"
      },
      "source": [
        ""
      ],
      "execution_count": null,
      "outputs": []
    },
    {
      "cell_type": "code",
      "metadata": {
        "id": "PdwU2r9JDr8b"
      },
      "source": [
        ""
      ],
      "execution_count": null,
      "outputs": []
    },
    {
      "cell_type": "code",
      "metadata": {
        "id": "Vc_jSdtOEB46"
      },
      "source": [
        ""
      ],
      "execution_count": null,
      "outputs": []
    },
    {
      "cell_type": "code",
      "metadata": {
        "id": "8nsHhTenEDhl"
      },
      "source": [
        ""
      ],
      "execution_count": null,
      "outputs": []
    }
  ]
}