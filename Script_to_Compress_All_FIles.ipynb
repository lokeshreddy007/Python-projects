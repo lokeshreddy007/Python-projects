{
  "cells": [
    {
      "cell_type": "code",
      "execution_count": null,
      "metadata": {
        "id": "5EK4kHVht-ou",
        "cellView": "form"
      },
      "outputs": [],
      "source": [
        "#@title Mount \n",
        "from google.colab import drive\n",
        "drive.mount('/content/drive')"
      ]
    },
    {
      "cell_type": "code",
      "execution_count": null,
      "metadata": {
        "id": "b5hccLTDt_j6",
        "cellView": "form"
      },
      "outputs": [],
      "source": [
        "#@title <<----<strong>Install HandBrake and rClone</strong>\n",
        "%%capture\n",
        "AUTO_RECONNECT = True #@param {type:\"boolean\"}\n",
        "HANDBRAKE = True #@param {type:\"boolean\"}\n",
        "RCLONE = True #@param {type:\"boolean\"}\n",
        "#@markdown Check AUTO_RECONNECT to prevent notebook from disconnecting!\n",
        "\n",
        "from os import makedirs\n",
        "makedirs(\"/content/temp/HandbrakeTemp\", exist_ok = True)\n",
        "makedirs(\"/root/.config/rclone\", exist_ok = True) \n",
        "if HANDBRAKE==True:\n",
        "  !wget -qq https://github.com/vot/ffbinaries-prebuilt/releases/download/v4.2.1/ffmpeg-4.2.1-linux-64.zip \n",
        "  !rm -f ffmpeg-4.2.1-linux-64.zip\n",
        "  !add-apt-repository ppa:stebbins/handbrake-releases -y \n",
        "  !apt-get install -y handbrake-cli \n",
        "  \n",
        "if RCLONE==True:\n",
        "  !curl https://rclone.org/install.sh | sudo bash\n",
        "\n",
        "if AUTO_RECONNECT:\n",
        "  import IPython\n",
        "  from google.colab import output\n",
        "\n",
        "  display(IPython.display.Javascript('''\n",
        "  function ClickConnect(){\n",
        "    btn = document.querySelector(\"colab-connect-button\")\n",
        "    if (btn != null){\n",
        "      console.log(\"Click colab-connect-button\"); \n",
        "      btn.click() \n",
        "      }\n",
        "    \n",
        "    btn = document.getElementById('ok')\n",
        "    if (btn != null){\n",
        "      console.log(\"Click reconnect\"); \n",
        "      btn.click() \n",
        "      }\n",
        "    }\n",
        "    \n",
        "  setInterval(ClickConnect,60000)\n",
        "  '''))"
      ]
    },
    {
      "cell_type": "code",
      "execution_count": null,
      "metadata": {
        "id": "7Geq8tqMzTZi"
      },
      "outputs": [],
      "source": [
        "import os\n",
        "os.chdir(\"/content/drive/MyDrive/GdriveXbot/INE-Recon and Vulnerability Detection Bootcamp\")"
      ]
    },
    {
      "cell_type": "code",
      "source": [
        "import os\n",
        "os.chdir(\"/content/drive/MyDrive/Torrent\")"
      ],
      "metadata": {
        "id": "mC3Mzie6POaq"
      },
      "execution_count": null,
      "outputs": []
    },
    {
      "cell_type": "code",
      "execution_count": null,
      "metadata": {
        "id": "Y3cGBMJbISQ7"
      },
      "outputs": [],
      "source": [
        "!ls"
      ]
    },
    {
      "cell_type": "code",
      "source": [
        "!unzip \"INE-Recon and Vulnerability Detection Bootcamp.rar\""
      ],
      "metadata": {
        "id": "wU4K43woHhid"
      },
      "execution_count": null,
      "outputs": []
    },
    {
      "cell_type": "code",
      "source": [
        "!unrar e \"INE-Recon and Vulnerability Detection Bootcamp.rar\""
      ],
      "metadata": {
        "id": "w_9fE0ZINOId"
      },
      "execution_count": null,
      "outputs": []
    },
    {
      "cell_type": "code",
      "source": [
        "!ffmpeg -i 1.Infrastructure.ts -c:v libx264 -c:a aac 1.Infrastructure.mp4\n"
      ],
      "metadata": {
        "id": "Sz25EUWzTZ8j"
      },
      "execution_count": null,
      "outputs": []
    },
    {
      "cell_type": "code",
      "source": [
        ""
      ],
      "metadata": {
        "id": "TEI7_stKVQ1d"
      },
      "execution_count": null,
      "outputs": []
    },
    {
      "cell_type": "code",
      "source": [
        "!sudo apt install p7zip-full"
      ],
      "metadata": {
        "id": "KCQ5jHpECM6r"
      },
      "execution_count": null,
      "outputs": []
    },
    {
      "cell_type": "code",
      "execution_count": null,
      "metadata": {
        "id": "Vs1InAzVzWkL"
      },
      "outputs": [],
      "source": [
        "!wget \"https://www.seedr.cc/download/archive/7b1fd7c1f22af2b4c6cea4c64fd7d6e7b60798568fd6ed681bfd15643a2864b6?token=ca4e16433945ef6c22e7a9c96a84650e0d99b3a9f39a7239a35eae37f4307885&exp=1654882840\"  -O  Node.zip --no-check-certificate\n"
      ]
    },
    {
      "cell_type": "code",
      "execution_count": null,
      "metadata": {
        "id": "odS_6W351ueU"
      },
      "outputs": [],
      "source": [
        "!unzip \"Node.zip\""
      ]
    },
    {
      "cell_type": "code",
      "source": [
        "!7z x \"UD - Hacking and Securing JSON Web Tokens (JWT) @redbluehit.7z\""
      ],
      "metadata": {
        "id": "xIaDCMXmCdRe"
      },
      "execution_count": null,
      "outputs": []
    },
    {
      "cell_type": "code",
      "execution_count": null,
      "metadata": {
        "id": "zOU3q8-J1tNy"
      },
      "outputs": [],
      "source": [
        "  ## WORKING SCRIPT"
      ]
    },
    {
      "cell_type": "code",
      "execution_count": null,
      "metadata": {
        "id": "o3lbe9iS2f_R"
      },
      "outputs": [],
      "source": [
        "  #@markdown ---\n",
        "path = \"/content/drive/MyDrive/GdriveXbot/INE-Recon and Vulnerability Detection Bootcamp/demo\" #@param {type:\"string\"}\n",
        "FORMAT = \"mkv\" #@param [\"mp4\", \"mkv\"]\n",
        "# RESOLUTION = \"480p\" #@param [\"360p\", \"480p\",\"540p\", \"720p\", \"1080p\"]\n",
        "Encoder = \"x265\" #@param [\"x264\", \"x265\"]T\n",
        "Encoder_Preset = \"ultrafast\" #@param [\"ultrafast\", \"faster\", \"fast\", \"medium\", \"slow\", \"slower\"]\n",
        "#@markdown Choose Constant Quality Rate [Lower = Higher Quality/\n",
        "\n",
        "CQ = 26 #@param {type:\"slider\", min:10, max:30, step:1}\n",
        "BURN_SUBTITLES = False #@param {type:\"boolean\"}\n",
        "Additional_Flags = \"\" #@param {type:\"string\"}\n",
        "\n",
        "import smtplib\n",
        "import os\n",
        "\n",
        "def addFlags():\n",
        "    global flags\n",
        "    # flags = f\" --encoder {Encoder}  --all-audio -s '0,1,2,3' --cfr --optimize --quality={CQ} --width={w} --height={h} --format={FORMAT} --encoder-preset={Encoder_Preset} \"\n",
        "    flags = f\" -e x265 -q 29 -r 10 -B 48 --all-audio -s '0,1,2,3' --cfr --optimize --mixdown mono --format={FORMAT} --encoder-preset={Encoder_Preset} \"\n",
        "    if BURN_SUBTITLES:\n",
        "      flags += \"-s '1' --subtitle-burned '1' \"\n",
        "    if Additional_Flags != \"\":\n",
        "      flags += str(Additional_Flags)\n",
        "\n",
        "addFlags()\n",
        "\n",
        "files = []\n",
        "for r, d, f in os.walk(path):\n",
        "    for file in f:\n",
        "        if '.mp4' in file:\n",
        "            files.append(os.path.join(r, file))\n",
        "print('COUNT =>' + str(len(files)))\n",
        "\n",
        "fileNumber = 1\n",
        "for f in files:\n",
        "    split_file = f.split('/')\n",
        "    file_name = split_file[len(split_file) -1].replace('mp4','mkv')\n",
        "    print(f'\\n\\n**************** Current File to process: {f}')\n",
        "    print(f[0:f.rfind('/')]+'/'+file_name)\n",
        "    print(f'\\n\\n**************** New File to process: {file_name}')\n",
        "    path = f\n",
        "    hTemp = f[0:f.rfind('/')]+'/'+file_name\n",
        "    !HandBrakeCLI -i \"$path\" -o \"$hTemp\" $flags\n",
        "    !rm \"$path\"\n",
        "    fileNumber = fileNumber + 1\n",
        "    print(\"********************************************\")\n",
        "    print(\"COMPRESS FILE NUMBER:   \" + str(fileNumber))"
      ]
    },
    {
      "cell_type": "code",
      "source": [
        ""
      ],
      "metadata": {
        "id": "f3fyG0WbOhc8"
      },
      "execution_count": null,
      "outputs": []
    }
  ],
  "metadata": {
    "colab": {
      "collapsed_sections": [],
      "name": "Script to Compress All FIles.ipynb",
      "provenance": []
    },
    "kernelspec": {
      "display_name": "Python 3",
      "name": "python3"
    },
    "language_info": {
      "name": "python"
    },
    "accelerator": "GPU"
  },
  "nbformat": 4,
  "nbformat_minor": 0
}